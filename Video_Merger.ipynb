{
  "nbformat": 4,
  "nbformat_minor": 0,
  "metadata": {
    "colab": {
      "provenance": []
    },
    "kernelspec": {
      "name": "python3",
      "display_name": "Python 3"
    },
    "language_info": {
      "name": "python"
    }
  },
  "cells": [
    {
      "cell_type": "code",
      "execution_count": null,
      "metadata": {
        "id": "0R0HCSfrFjZ3"
      },
      "outputs": [],
      "source": [
        "from google.colab import drive\n",
        "drive.mount('/content/drive')\n"
      ]
    },
    {
      "cell_type": "code",
      "source": [
        "!pip install moviepy\n",
        "from moviepy.editor import *\n"
      ],
      "metadata": {
        "id": "nubfBvE6FrCW"
      },
      "execution_count": null,
      "outputs": []
    },
    {
      "cell_type": "code",
      "source": [
        "video1 = VideoFileClip(\"/content/drive/MyDrive/video1.mp4\")\n",
        "video2 = VideoFileClip(\"/content/drive/MyDrive/video2.mp4\")\n",
        "final_video = concatenate_videoclips([video1, video2])\n",
        "final_video.write_videofile(\"/content/drive/MyDrive/final_video.mp4\")"
      ],
      "metadata": {
        "id": "Gaemhza1FscN"
      },
      "execution_count": null,
      "outputs": []
    }
  ]
}