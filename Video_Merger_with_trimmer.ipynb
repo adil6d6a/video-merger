{
  "nbformat": 4,
  "nbformat_minor": 0,
  "metadata": {
    "colab": {
      "provenance": []
    },
    "kernelspec": {
      "name": "python3",
      "display_name": "Python 3"
    },
    "language_info": {
      "name": "python"
    }
  },
  "cells": [
    {
      "cell_type": "code",
      "execution_count": 1,
      "metadata": {
        "id": "0R0HCSfrFjZ3",
        "colab": {
          "base_uri": "https://localhost:8080/"
        },
        "outputId": "0ffcc6ae-9d54-4059-e0b5-bf2a6af245a4"
      },
      "outputs": [
        {
          "output_type": "stream",
          "name": "stdout",
          "text": [
            "Mounted at /content/drive\n"
          ]
        }
      ],
      "source": [
        "from google.colab import drive\n",
        "drive.mount('/content/drive')\n"
      ]
    },
    {
      "cell_type": "code",
      "source": [
        "!pip install moviepy\n",
        "from moviepy.editor import *\n",
        "from moviepy.video.io.VideoFileClip import VideoFileClip\n",
        "from moviepy.video.fx.all import crop\n",
        "from moviepy.editor import *\n",
        "\n",
        "video = VideoFileClip(\"/content/drive/MyDrive/Copy of Vikram (2022) UNTOUCHED TRUE WEB-DL - 4K SDR - 2160p - HEVCx265 - UNCENSORED Tamil - (DD+5.1 - 448Kbps) ~ Jacksparrow063 - 13GB - ESub.mkv\")\n",
        "\n",
        "h1, m1, s1 = 1,37,42\n",
        "h2, m2, s2 = 1,39,15\n",
        "\n",
        "start_time = 3600*h1+60*m1+s1\n",
        "end_time = 3600*h2+60*m2+s2\n",
        "\n",
        "video1 = video.subclip(start_time, end_time)\n",
        "\n",
        "h1, m1, s1 = 1,41,44\n",
        "h2, m2, s2 = 1,43,10\n",
        "\n",
        "start_time = 3600*h1+60*m1+s1\n",
        "end_time = 3600*h2+60*m2+s2\n",
        "\n",
        "video2 = video.subclip(start_time, end_time)\n",
        "\n",
        "final_video = concatenate_videoclips([video1, video2])\n",
        "final_video.write_videofile(\"/content/drive/MyDrive/final_video.mp4\")"
      ],
      "metadata": {
        "id": "nubfBvE6FrCW"
      },
      "execution_count": null,
      "outputs": []
    },
    {
      "cell_type": "code",
      "source": [
        "video1 = VideoFileClip(\"/content/drive/MyDrive/video1.mp4\")\n",
        "video2 = VideoFileClip(\"/content/drive/MyDrive/video2.mp4\")\n",
        "final_video = concatenate_videoclips([video1, video2])\n",
        "final_video.write_videofile(\"/content/drive/MyDrive/final_video.mp4\")"
      ],
      "metadata": {
        "id": "Gaemhza1FscN"
      },
      "execution_count": null,
      "outputs": []
    }
  ]
}